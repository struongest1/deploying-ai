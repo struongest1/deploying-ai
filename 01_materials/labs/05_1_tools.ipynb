{
 "cells": [
  {
   "cell_type": "markdown",
   "id": "c96fa5ad",
   "metadata": {},
   "source": [
    "# Tools\n",
    "\n",
    "A model's capabilities is extended with tools. Tools can be built into the API or accessed through functions and Model Context Protocol (MCP) services.\n",
    "\n",
    "Tools include:\n",
    "\n",
    "- Image generation.\n",
    "- Web search.\n",
    "- Function calling.\n",
    "- Remote MCP Servers.\n",
    "- File search.\n",
    "- Code interpreter.\n",
    "- Computer use."
   ]
  },
  {
   "cell_type": "markdown",
   "id": "14a0c9c3",
   "metadata": {},
   "source": [
    "# Function Calling\n",
    "\n",
    "In this notebook we use function calling to illustrate tools and their usage. \n",
    "\n",
    "A useful resource is OpenAI's [Function Calling documentation for the responses API](https://platform.openai.com/docs/guides/function-calling?api-mode=responses)."
   ]
  },
  {
   "cell_type": "code",
   "execution_count": null,
   "id": "d90d1ddd",
   "metadata": {},
   "outputs": [],
   "source": [
    "%load_ext dotenv\n",
    "%dotenv ../../05_src/.secrets"
   ]
  },
  {
   "cell_type": "code",
   "execution_count": null,
   "id": "76b0c6c3",
   "metadata": {},
   "outputs": [],
   "source": [
    "from openai import OpenAI\n",
    "import json\n",
    "\n",
    "client = OpenAI()"
   ]
  },
  {
   "cell_type": "markdown",
   "id": "0aea9823",
   "metadata": {},
   "source": [
    "# Tool Calling Flow\n",
    "\n",
    "The idea behind using tools is that a model will request to use a tool. When a model examines a prompt, it may determine that to follow the instruction it should use a tool. It then generates a special type of output, which we will catch and call a specific tool. \n",
    "\n",
    "The logic flows as follows:\n",
    "\n",
    "\n",
    "1. Make a request to the model with tools it could call\n",
    "2. Receive a tool call from the model\n",
    "3. Execute code on the application side with input from the tool call\n",
    "4. Make a second request to the model with the tool output\n",
    "5. Receive a final response from the model (or more tool calls)\n"
   ]
  },
  {
   "cell_type": "markdown",
   "id": "b09e27b1",
   "metadata": {},
   "source": [
    "![](./img/05_function-calling-diagram-steps.png)"
   ]
  },
  {
   "cell_type": "markdown",
   "id": "1cd207a9",
   "metadata": {},
   "source": [
    "# Make a request to the model with tools it could call\n",
    "\n",
    "The tool definition includes the function name, its parameters, and additional metadata. "
   ]
  },
  {
   "cell_type": "code",
   "execution_count": null,
   "id": "ddcae9ad",
   "metadata": {},
   "outputs": [],
   "source": [
    "tools = [\n",
    "    {\n",
    "        \"type\": \"function\",\n",
    "        \"name\": \"get_horoscope\",\n",
    "        \"description\": \"Get horoscope for a given zodiac sign.\",\n",
    "        \"parameters\": {\n",
    "            \"type\": \"object\",\n",
    "            \"properties\": {\n",
    "                \"zodiac_sign\": {\n",
    "                    \"type\": \"string\",\n",
    "                    \"description\": \"Zodiac sign e.g. Aries, Taurus\",\n",
    "                }\n",
    "            },\n",
    "            \"required\": [\"zodiac_sign\"],\n",
    "            \"additionalProperties\": False,\n",
    "        },\n",
    "        \"strict\": True,\n",
    "    },\n",
    "]\n",
    "\n",
    "def get_horoscope(zodiac_sign: str) -> str:\n",
    "    # Dummy implementation for illustration\n",
    "    horoscope = f\"{zodiac_sign}: Today is a great day for new beginnings.\"\n",
    "    return horoscope\n",
    "\n"
   ]
  },
  {
   "cell_type": "markdown",
   "id": "ac640e34",
   "metadata": {},
   "source": [
    "We will need to retain some \"memory\" of the conversation. In this case, we will retain the message history and send it as context in our interaction with the model"
   ]
  },
  {
   "cell_type": "code",
   "execution_count": null,
   "id": "6ff32621",
   "metadata": {},
   "outputs": [],
   "source": [
    "input_list = [\n",
    "    {\"role\": \"user\", \"content\": \"What is my horoscope? I am an Aquarius.\"}\n",
    "]"
   ]
  },
  {
   "cell_type": "markdown",
   "id": "c44ec10a",
   "metadata": {},
   "source": [
    "We prompt the model with the initial input."
   ]
  },
  {
   "cell_type": "code",
   "execution_count": null,
   "id": "c3927771",
   "metadata": {},
   "outputs": [],
   "source": [
    "response = client.responses.create(\n",
    "    model=\"gpt-5\",\n",
    "    tools=tools,\n",
    "    input=input_list,\n",
    ")"
   ]
  },
  {
   "cell_type": "markdown",
   "id": "b90a8569",
   "metadata": {},
   "source": [
    "# Execute code on the application side with input from the tool call\n"
   ]
  },
  {
   "cell_type": "markdown",
   "id": "013df185",
   "metadata": {},
   "source": [
    "Examine the response output. Notice that we find a \"reasoning item\" and a \"function tool call\"."
   ]
  },
  {
   "cell_type": "code",
   "execution_count": null,
   "id": "56f346d4",
   "metadata": {},
   "outputs": [],
   "source": [
    "response.output"
   ]
  },
  {
   "cell_type": "markdown",
   "id": "d8b4c455",
   "metadata": {},
   "source": [
    "The function call item indicates that the model is requesting to run the function call: `get_horoscope(zodiac_sign='Aquarius')`."
   ]
  },
  {
   "cell_type": "code",
   "execution_count": null,
   "id": "e02789b3",
   "metadata": {},
   "outputs": [],
   "source": [
    "print(response.output[1].to_json())"
   ]
  },
  {
   "cell_type": "markdown",
   "id": "fab51457",
   "metadata": {},
   "source": [
    "In the code below:\n",
    "\n",
    "+ Execute the function logic for get_horoscope.\n",
    "+ Add the function output to the input_list."
   ]
  },
  {
   "cell_type": "code",
   "execution_count": null,
   "id": "874a4f3f",
   "metadata": {},
   "outputs": [],
   "source": [
    "input_list += response.output\n",
    "\n",
    "for item in response.output:\n",
    "    if item.type == \"function_call\":\n",
    "        if item.name == \"get_horoscope\":\n",
    "            # Execute the function logic for get_horoscope\n",
    "            horoscope = get_horoscope(**json.loads(item.arguments))\n",
    "            \n",
    "            # Provide function call results to the model\n",
    "            input_list.append({\n",
    "                \"type\": \"function_call_output\",\n",
    "                \"call_id\": item.call_id,\n",
    "                \"output\": json.dumps({\n",
    "                  \"horoscope\": horoscope\n",
    "                })\n",
    "            })"
   ]
  },
  {
   "cell_type": "markdown",
   "id": "9eae2369",
   "metadata": {},
   "source": [
    "# Make a second request to the model with the tool output\n"
   ]
  },
  {
   "cell_type": "markdown",
   "id": "1a95f571",
   "metadata": {},
   "source": [
    "Examine the final input_list which is the context of model call."
   ]
  },
  {
   "cell_type": "code",
   "execution_count": null,
   "id": "9d61e62f",
   "metadata": {},
   "outputs": [],
   "source": [
    "print(input_list)"
   ]
  },
  {
   "cell_type": "code",
   "execution_count": null,
   "id": "d1e27b61",
   "metadata": {},
   "outputs": [],
   "source": [
    "response = client.responses.create(\n",
    "    model=\"gpt-5\",\n",
    "    instructions=\"Respond only with a horoscope generated by a tool.\",\n",
    "    tools=tools,\n",
    "    input=input_list,\n",
    ")\n"
   ]
  },
  {
   "cell_type": "markdown",
   "id": "67dac5c2",
   "metadata": {},
   "source": [
    "# Receive a final response from the model (or more tool calls)"
   ]
  },
  {
   "cell_type": "code",
   "execution_count": null,
   "id": "6b714b4d",
   "metadata": {},
   "outputs": [],
   "source": [
    "print(response.model_dump_json(indent=2))\n",
    "print(\"\\n\" + response.output_text)"
   ]
  }
 ],
 "metadata": {
  "kernelspec": {
   "display_name": ".venv",
   "language": "python",
   "name": "python3"
  },
  "language_info": {
   "codemirror_mode": {
    "name": "ipython",
    "version": 3
   },
   "file_extension": ".py",
   "mimetype": "text/x-python",
   "name": "python",
   "nbconvert_exporter": "python",
   "pygments_lexer": "ipython3",
   "version": "3.12.7"
  }
 },
 "nbformat": 4,
 "nbformat_minor": 5
}
